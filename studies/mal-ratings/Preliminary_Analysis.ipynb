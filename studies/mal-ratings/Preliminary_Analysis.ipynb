{
 "cells": [
  {
   "cell_type": "markdown",
   "metadata": {},
   "source": [
    "Before beginning, download the dataset from https://www.kaggle.com/CooperUnion/anime-recommendations-database and place it inside datasets folder."
   ]
  },
  {
   "cell_type": "code",
   "execution_count": 2,
   "metadata": {
    "collapsed": false
   },
   "outputs": [],
   "source": [
    "from load_modules import load_modules\n",
    "load_modules()\n",
    "from helpers.dataset import Dataset\n",
    "\n",
    "d = Dataset('anime-recommendations-database')"
   ]
  },
  {
   "cell_type": "markdown",
   "metadata": {},
   "source": [
    "We will first date a look at the anime data and what features are included in the dataset."
   ]
  },
  {
   "cell_type": "code",
   "execution_count": 3,
   "metadata": {
    "collapsed": false
   },
   "outputs": [
    {
     "data": {
      "text/html": [
       "<div>\n",
       "<style>\n",
       "    .dataframe thead tr:only-child th {\n",
       "        text-align: right;\n",
       "    }\n",
       "\n",
       "    .dataframe thead th {\n",
       "        text-align: left;\n",
       "    }\n",
       "\n",
       "    .dataframe tbody tr th {\n",
       "        vertical-align: top;\n",
       "    }\n",
       "</style>\n",
       "<table border=\"1\" class=\"dataframe\">\n",
       "  <thead>\n",
       "    <tr style=\"text-align: right;\">\n",
       "      <th></th>\n",
       "      <th>anime_id</th>\n",
       "      <th>name</th>\n",
       "      <th>genre</th>\n",
       "      <th>type</th>\n",
       "      <th>episodes</th>\n",
       "      <th>rating</th>\n",
       "      <th>members</th>\n",
       "    </tr>\n",
       "  </thead>\n",
       "  <tbody>\n",
       "    <tr>\n",
       "      <th>0</th>\n",
       "      <td>32281</td>\n",
       "      <td>Kimi no Na wa.</td>\n",
       "      <td>Drama, Romance, School, Supernatural</td>\n",
       "      <td>Movie</td>\n",
       "      <td>1</td>\n",
       "      <td>9.37</td>\n",
       "      <td>200630</td>\n",
       "    </tr>\n",
       "    <tr>\n",
       "      <th>1</th>\n",
       "      <td>5114</td>\n",
       "      <td>Fullmetal Alchemist: Brotherhood</td>\n",
       "      <td>Action, Adventure, Drama, Fantasy, Magic, Mili...</td>\n",
       "      <td>TV</td>\n",
       "      <td>64</td>\n",
       "      <td>9.26</td>\n",
       "      <td>793665</td>\n",
       "    </tr>\n",
       "    <tr>\n",
       "      <th>2</th>\n",
       "      <td>28977</td>\n",
       "      <td>Gintama°</td>\n",
       "      <td>Action, Comedy, Historical, Parody, Samurai, S...</td>\n",
       "      <td>TV</td>\n",
       "      <td>51</td>\n",
       "      <td>9.25</td>\n",
       "      <td>114262</td>\n",
       "    </tr>\n",
       "    <tr>\n",
       "      <th>3</th>\n",
       "      <td>9253</td>\n",
       "      <td>Steins;Gate</td>\n",
       "      <td>Sci-Fi, Thriller</td>\n",
       "      <td>TV</td>\n",
       "      <td>24</td>\n",
       "      <td>9.17</td>\n",
       "      <td>673572</td>\n",
       "    </tr>\n",
       "    <tr>\n",
       "      <th>4</th>\n",
       "      <td>9969</td>\n",
       "      <td>Gintama&amp;#039;</td>\n",
       "      <td>Action, Comedy, Historical, Parody, Samurai, S...</td>\n",
       "      <td>TV</td>\n",
       "      <td>51</td>\n",
       "      <td>9.16</td>\n",
       "      <td>151266</td>\n",
       "    </tr>\n",
       "    <tr>\n",
       "      <th>5</th>\n",
       "      <td>32935</td>\n",
       "      <td>Haikyuu!!: Karasuno Koukou VS Shiratorizawa Ga...</td>\n",
       "      <td>Comedy, Drama, School, Shounen, Sports</td>\n",
       "      <td>TV</td>\n",
       "      <td>10</td>\n",
       "      <td>9.15</td>\n",
       "      <td>93351</td>\n",
       "    </tr>\n",
       "    <tr>\n",
       "      <th>6</th>\n",
       "      <td>11061</td>\n",
       "      <td>Hunter x Hunter (2011)</td>\n",
       "      <td>Action, Adventure, Shounen, Super Power</td>\n",
       "      <td>TV</td>\n",
       "      <td>148</td>\n",
       "      <td>9.13</td>\n",
       "      <td>425855</td>\n",
       "    </tr>\n",
       "    <tr>\n",
       "      <th>7</th>\n",
       "      <td>820</td>\n",
       "      <td>Ginga Eiyuu Densetsu</td>\n",
       "      <td>Drama, Military, Sci-Fi, Space</td>\n",
       "      <td>OVA</td>\n",
       "      <td>110</td>\n",
       "      <td>9.11</td>\n",
       "      <td>80679</td>\n",
       "    </tr>\n",
       "    <tr>\n",
       "      <th>8</th>\n",
       "      <td>15335</td>\n",
       "      <td>Gintama Movie: Kanketsu-hen - Yorozuya yo Eien...</td>\n",
       "      <td>Action, Comedy, Historical, Parody, Samurai, S...</td>\n",
       "      <td>Movie</td>\n",
       "      <td>1</td>\n",
       "      <td>9.10</td>\n",
       "      <td>72534</td>\n",
       "    </tr>\n",
       "    <tr>\n",
       "      <th>9</th>\n",
       "      <td>15417</td>\n",
       "      <td>Gintama&amp;#039;: Enchousen</td>\n",
       "      <td>Action, Comedy, Historical, Parody, Samurai, S...</td>\n",
       "      <td>TV</td>\n",
       "      <td>13</td>\n",
       "      <td>9.11</td>\n",
       "      <td>81109</td>\n",
       "    </tr>\n",
       "  </tbody>\n",
       "</table>\n",
       "</div>"
      ],
      "text/plain": [
       "   anime_id                                               name  \\\n",
       "0     32281                                     Kimi no Na wa.   \n",
       "1      5114                   Fullmetal Alchemist: Brotherhood   \n",
       "2     28977                                           Gintama°   \n",
       "3      9253                                        Steins;Gate   \n",
       "4      9969                                      Gintama&#039;   \n",
       "5     32935  Haikyuu!!: Karasuno Koukou VS Shiratorizawa Ga...   \n",
       "6     11061                             Hunter x Hunter (2011)   \n",
       "7       820                               Ginga Eiyuu Densetsu   \n",
       "8     15335  Gintama Movie: Kanketsu-hen - Yorozuya yo Eien...   \n",
       "9     15417                           Gintama&#039;: Enchousen   \n",
       "\n",
       "                                               genre   type episodes  rating  \\\n",
       "0               Drama, Romance, School, Supernatural  Movie        1    9.37   \n",
       "1  Action, Adventure, Drama, Fantasy, Magic, Mili...     TV       64    9.26   \n",
       "2  Action, Comedy, Historical, Parody, Samurai, S...     TV       51    9.25   \n",
       "3                                   Sci-Fi, Thriller     TV       24    9.17   \n",
       "4  Action, Comedy, Historical, Parody, Samurai, S...     TV       51    9.16   \n",
       "5             Comedy, Drama, School, Shounen, Sports     TV       10    9.15   \n",
       "6            Action, Adventure, Shounen, Super Power     TV      148    9.13   \n",
       "7                     Drama, Military, Sci-Fi, Space    OVA      110    9.11   \n",
       "8  Action, Comedy, Historical, Parody, Samurai, S...  Movie        1    9.10   \n",
       "9  Action, Comedy, Historical, Parody, Samurai, S...     TV       13    9.11   \n",
       "\n",
       "   members  \n",
       "0   200630  \n",
       "1   793665  \n",
       "2   114262  \n",
       "3   673572  \n",
       "4   151266  \n",
       "5    93351  \n",
       "6   425855  \n",
       "7    80679  \n",
       "8    72534  \n",
       "9    81109  "
      ]
     },
     "execution_count": 3,
     "metadata": {},
     "output_type": "execute_result"
    }
   ],
   "source": [
    "anime_data =  d.load_dataframe('anime.csv')\n",
    "anime_data.head(10)"
   ]
  },
  {
   "cell_type": "code",
   "execution_count": 4,
   "metadata": {
    "collapsed": false
   },
   "outputs": [
    {
     "name": "stdout",
     "output_type": "stream",
     "text": [
      "anime_id int64\n",
      "name object\n",
      "genre object\n",
      "type object\n",
      "episodes object\n",
      "rating float64\n",
      "members int64\n"
     ]
    }
   ],
   "source": [
    "for col in anime_data:\n",
    "    print(col, anime_data[col].dtype)"
   ]
  },
  {
   "cell_type": "markdown",
   "metadata": {},
   "source": [
    "Now, we don't need the name, we want the genres and types as separate categorical variables, and we want episodes to be integer. That requires some unfortunate cleanup."
   ]
  },
  {
   "cell_type": "code",
   "execution_count": 5,
   "metadata": {
    "collapsed": true
   },
   "outputs": [],
   "source": [
    "import pandas as pd\n",
    "import numpy as np"
   ]
  },
  {
   "cell_type": "code",
   "execution_count": 6,
   "metadata": {
    "collapsed": false,
    "scrolled": false
   },
   "outputs": [
    {
     "data": {
      "text/html": [
       "<div>\n",
       "<style>\n",
       "    .dataframe thead tr:only-child th {\n",
       "        text-align: right;\n",
       "    }\n",
       "\n",
       "    .dataframe thead th {\n",
       "        text-align: left;\n",
       "    }\n",
       "\n",
       "    .dataframe tbody tr th {\n",
       "        vertical-align: top;\n",
       "    }\n",
       "</style>\n",
       "<table border=\"1\" class=\"dataframe\">\n",
       "  <thead>\n",
       "    <tr style=\"text-align: right;\">\n",
       "      <th></th>\n",
       "      <th>anime_id</th>\n",
       "      <th>Action</th>\n",
       "      <th>Adventure</th>\n",
       "      <th>Cars</th>\n",
       "      <th>Comedy</th>\n",
       "      <th>Dementia</th>\n",
       "      <th>Demons</th>\n",
       "      <th>Drama</th>\n",
       "      <th>Ecchi</th>\n",
       "      <th>Fantasy</th>\n",
       "      <th>...</th>\n",
       "      <th>Yuri</th>\n",
       "      <th>type_Movie</th>\n",
       "      <th>type_Music</th>\n",
       "      <th>type_ONA</th>\n",
       "      <th>type_OVA</th>\n",
       "      <th>type_Special</th>\n",
       "      <th>type_TV</th>\n",
       "      <th>episodes</th>\n",
       "      <th>rating</th>\n",
       "      <th>members</th>\n",
       "    </tr>\n",
       "  </thead>\n",
       "  <tbody>\n",
       "    <tr>\n",
       "      <th>0</th>\n",
       "      <td>32281</td>\n",
       "      <td>0</td>\n",
       "      <td>0</td>\n",
       "      <td>0</td>\n",
       "      <td>0</td>\n",
       "      <td>0</td>\n",
       "      <td>0</td>\n",
       "      <td>1</td>\n",
       "      <td>0</td>\n",
       "      <td>0</td>\n",
       "      <td>...</td>\n",
       "      <td>0</td>\n",
       "      <td>1</td>\n",
       "      <td>0</td>\n",
       "      <td>0</td>\n",
       "      <td>0</td>\n",
       "      <td>0</td>\n",
       "      <td>0</td>\n",
       "      <td>1.0</td>\n",
       "      <td>9.37</td>\n",
       "      <td>200630</td>\n",
       "    </tr>\n",
       "    <tr>\n",
       "      <th>1</th>\n",
       "      <td>5114</td>\n",
       "      <td>1</td>\n",
       "      <td>1</td>\n",
       "      <td>0</td>\n",
       "      <td>0</td>\n",
       "      <td>0</td>\n",
       "      <td>0</td>\n",
       "      <td>1</td>\n",
       "      <td>0</td>\n",
       "      <td>1</td>\n",
       "      <td>...</td>\n",
       "      <td>0</td>\n",
       "      <td>0</td>\n",
       "      <td>0</td>\n",
       "      <td>0</td>\n",
       "      <td>0</td>\n",
       "      <td>0</td>\n",
       "      <td>1</td>\n",
       "      <td>64.0</td>\n",
       "      <td>9.26</td>\n",
       "      <td>793665</td>\n",
       "    </tr>\n",
       "    <tr>\n",
       "      <th>2</th>\n",
       "      <td>28977</td>\n",
       "      <td>1</td>\n",
       "      <td>0</td>\n",
       "      <td>0</td>\n",
       "      <td>1</td>\n",
       "      <td>0</td>\n",
       "      <td>0</td>\n",
       "      <td>0</td>\n",
       "      <td>0</td>\n",
       "      <td>0</td>\n",
       "      <td>...</td>\n",
       "      <td>0</td>\n",
       "      <td>0</td>\n",
       "      <td>0</td>\n",
       "      <td>0</td>\n",
       "      <td>0</td>\n",
       "      <td>0</td>\n",
       "      <td>1</td>\n",
       "      <td>51.0</td>\n",
       "      <td>9.25</td>\n",
       "      <td>114262</td>\n",
       "    </tr>\n",
       "    <tr>\n",
       "      <th>3</th>\n",
       "      <td>9253</td>\n",
       "      <td>0</td>\n",
       "      <td>0</td>\n",
       "      <td>0</td>\n",
       "      <td>0</td>\n",
       "      <td>0</td>\n",
       "      <td>0</td>\n",
       "      <td>0</td>\n",
       "      <td>0</td>\n",
       "      <td>0</td>\n",
       "      <td>...</td>\n",
       "      <td>0</td>\n",
       "      <td>0</td>\n",
       "      <td>0</td>\n",
       "      <td>0</td>\n",
       "      <td>0</td>\n",
       "      <td>0</td>\n",
       "      <td>1</td>\n",
       "      <td>24.0</td>\n",
       "      <td>9.17</td>\n",
       "      <td>673572</td>\n",
       "    </tr>\n",
       "    <tr>\n",
       "      <th>4</th>\n",
       "      <td>9969</td>\n",
       "      <td>1</td>\n",
       "      <td>0</td>\n",
       "      <td>0</td>\n",
       "      <td>1</td>\n",
       "      <td>0</td>\n",
       "      <td>0</td>\n",
       "      <td>0</td>\n",
       "      <td>0</td>\n",
       "      <td>0</td>\n",
       "      <td>...</td>\n",
       "      <td>0</td>\n",
       "      <td>0</td>\n",
       "      <td>0</td>\n",
       "      <td>0</td>\n",
       "      <td>0</td>\n",
       "      <td>0</td>\n",
       "      <td>1</td>\n",
       "      <td>51.0</td>\n",
       "      <td>9.16</td>\n",
       "      <td>151266</td>\n",
       "    </tr>\n",
       "  </tbody>\n",
       "</table>\n",
       "<p>5 rows × 53 columns</p>\n",
       "</div>"
      ],
      "text/plain": [
       "   anime_id  Action  Adventure  Cars  Comedy  Dementia  Demons  Drama  Ecchi  \\\n",
       "0     32281       0          0     0       0         0       0      1      0   \n",
       "1      5114       1          1     0       0         0       0      1      0   \n",
       "2     28977       1          0     0       1         0       0      0      0   \n",
       "3      9253       0          0     0       0         0       0      0      0   \n",
       "4      9969       1          0     0       1         0       0      0      0   \n",
       "\n",
       "   Fantasy   ...     Yuri  type_Movie  type_Music  type_ONA  type_OVA  \\\n",
       "0        0   ...        0           1           0         0         0   \n",
       "1        1   ...        0           0           0         0         0   \n",
       "2        0   ...        0           0           0         0         0   \n",
       "3        0   ...        0           0           0         0         0   \n",
       "4        0   ...        0           0           0         0         0   \n",
       "\n",
       "   type_Special  type_TV  episodes  rating  members  \n",
       "0             0        0       1.0    9.37   200630  \n",
       "1             0        1      64.0    9.26   793665  \n",
       "2             0        1      51.0    9.25   114262  \n",
       "3             0        1      24.0    9.17   673572  \n",
       "4             0        1      51.0    9.16   151266  \n",
       "\n",
       "[5 rows x 53 columns]"
      ]
     },
     "execution_count": 6,
     "metadata": {},
     "output_type": "execute_result"
    }
   ],
   "source": [
    "genres = anime_data['genre'].str.replace(' ', '').str.get_dummies(sep = ',')\n",
    "\n",
    "anime_features = pd.concat([anime_data['anime_id'], # anime ids\n",
    "                  genres, # genres\n",
    "                  pd.get_dummies(anime_data['type'], prefix = 'type'), # types\n",
    "                  pd.to_numeric(anime_data['episodes'],  errors='coerce'), # num_episodes\n",
    "                  anime_data['rating'], # avg ratings\n",
    "                  anime_data['members'], # num_members\n",
    "                  ], axis = 1)\n",
    "anime_features.head()"
   ]
  },
  {
   "cell_type": "markdown",
   "metadata": {},
   "source": [
    "Now, there can be null values in the dataset, so it is good to look at the portion of the dataset that is affected by this."
   ]
  },
  {
   "cell_type": "code",
   "execution_count": 7,
   "metadata": {
    "collapsed": false
   },
   "outputs": [
    {
     "data": {
      "text/plain": [
       "0.034000325361965185"
      ]
     },
     "execution_count": 7,
     "metadata": {},
     "output_type": "execute_result"
    }
   ],
   "source": [
    "np.sum(anime_features.isnull().any(axis = 1))/anime_features.shape[0]"
   ]
  },
  {
   "cell_type": "markdown",
   "metadata": {},
   "source": [
    "Only 3%, meaning we can simply ignore them for now."
   ]
  },
  {
   "cell_type": "code",
   "execution_count": 8,
   "metadata": {
    "collapsed": true
   },
   "outputs": [],
   "source": [
    "anime_features = anime_features.dropna()"
   ]
  },
  {
   "cell_type": "markdown",
   "metadata": {},
   "source": [
    "The `describe` method of a DataFrame gives us a very easy look into the statistics behind each of our features."
   ]
  },
  {
   "cell_type": "code",
   "execution_count": 9,
   "metadata": {
    "collapsed": false
   },
   "outputs": [
    {
     "data": {
      "text/html": [
       "<div>\n",
       "<style>\n",
       "    .dataframe thead tr:only-child th {\n",
       "        text-align: right;\n",
       "    }\n",
       "\n",
       "    .dataframe thead th {\n",
       "        text-align: left;\n",
       "    }\n",
       "\n",
       "    .dataframe tbody tr th {\n",
       "        vertical-align: top;\n",
       "    }\n",
       "</style>\n",
       "<table border=\"1\" class=\"dataframe\">\n",
       "  <thead>\n",
       "    <tr style=\"text-align: right;\">\n",
       "      <th></th>\n",
       "      <th>anime_id</th>\n",
       "      <th>Action</th>\n",
       "      <th>Adventure</th>\n",
       "      <th>Cars</th>\n",
       "      <th>Comedy</th>\n",
       "      <th>Dementia</th>\n",
       "      <th>Demons</th>\n",
       "      <th>Drama</th>\n",
       "      <th>Ecchi</th>\n",
       "      <th>Fantasy</th>\n",
       "      <th>...</th>\n",
       "      <th>Yuri</th>\n",
       "      <th>type_Movie</th>\n",
       "      <th>type_Music</th>\n",
       "      <th>type_ONA</th>\n",
       "      <th>type_OVA</th>\n",
       "      <th>type_Special</th>\n",
       "      <th>type_TV</th>\n",
       "      <th>episodes</th>\n",
       "      <th>rating</th>\n",
       "      <th>members</th>\n",
       "    </tr>\n",
       "  </thead>\n",
       "  <tbody>\n",
       "    <tr>\n",
       "      <th>count</th>\n",
       "      <td>11876.000000</td>\n",
       "      <td>11876.000000</td>\n",
       "      <td>11876.000000</td>\n",
       "      <td>11876.000000</td>\n",
       "      <td>11876.000000</td>\n",
       "      <td>11876.000000</td>\n",
       "      <td>11876.000000</td>\n",
       "      <td>11876.000000</td>\n",
       "      <td>11876.000000</td>\n",
       "      <td>11876.000000</td>\n",
       "      <td>...</td>\n",
       "      <td>11876.000000</td>\n",
       "      <td>11876.000000</td>\n",
       "      <td>11876.000000</td>\n",
       "      <td>11876.000000</td>\n",
       "      <td>11876.000000</td>\n",
       "      <td>11876.000000</td>\n",
       "      <td>11876.000000</td>\n",
       "      <td>11876.000000</td>\n",
       "      <td>11876.000000</td>\n",
       "      <td>1.187600e+04</td>\n",
       "    </tr>\n",
       "    <tr>\n",
       "      <th>mean</th>\n",
       "      <td>13470.844055</td>\n",
       "      <td>0.231391</td>\n",
       "      <td>0.193078</td>\n",
       "      <td>0.005978</td>\n",
       "      <td>0.377484</td>\n",
       "      <td>0.020040</td>\n",
       "      <td>0.024166</td>\n",
       "      <td>0.166049</td>\n",
       "      <td>0.052796</td>\n",
       "      <td>0.186847</td>\n",
       "      <td>...</td>\n",
       "      <td>0.003452</td>\n",
       "      <td>0.193331</td>\n",
       "      <td>0.041007</td>\n",
       "      <td>0.051364</td>\n",
       "      <td>0.273409</td>\n",
       "      <td>0.140283</td>\n",
       "      <td>0.300606</td>\n",
       "      <td>12.447289</td>\n",
       "      <td>6.480333</td>\n",
       "      <td>1.844146e+04</td>\n",
       "    </tr>\n",
       "    <tr>\n",
       "      <th>std</th>\n",
       "      <td>11140.893582</td>\n",
       "      <td>0.421739</td>\n",
       "      <td>0.394731</td>\n",
       "      <td>0.077092</td>\n",
       "      <td>0.484778</td>\n",
       "      <td>0.140144</td>\n",
       "      <td>0.153572</td>\n",
       "      <td>0.372140</td>\n",
       "      <td>0.223635</td>\n",
       "      <td>0.389805</td>\n",
       "      <td>...</td>\n",
       "      <td>0.058658</td>\n",
       "      <td>0.394927</td>\n",
       "      <td>0.198315</td>\n",
       "      <td>0.220749</td>\n",
       "      <td>0.445728</td>\n",
       "      <td>0.347295</td>\n",
       "      <td>0.458541</td>\n",
       "      <td>47.011062</td>\n",
       "      <td>1.021995</td>\n",
       "      <td>5.527548e+04</td>\n",
       "    </tr>\n",
       "    <tr>\n",
       "      <th>min</th>\n",
       "      <td>1.000000</td>\n",
       "      <td>0.000000</td>\n",
       "      <td>0.000000</td>\n",
       "      <td>0.000000</td>\n",
       "      <td>0.000000</td>\n",
       "      <td>0.000000</td>\n",
       "      <td>0.000000</td>\n",
       "      <td>0.000000</td>\n",
       "      <td>0.000000</td>\n",
       "      <td>0.000000</td>\n",
       "      <td>...</td>\n",
       "      <td>0.000000</td>\n",
       "      <td>0.000000</td>\n",
       "      <td>0.000000</td>\n",
       "      <td>0.000000</td>\n",
       "      <td>0.000000</td>\n",
       "      <td>0.000000</td>\n",
       "      <td>0.000000</td>\n",
       "      <td>1.000000</td>\n",
       "      <td>1.670000</td>\n",
       "      <td>1.200000e+01</td>\n",
       "    </tr>\n",
       "    <tr>\n",
       "      <th>25%</th>\n",
       "      <td>3351.500000</td>\n",
       "      <td>0.000000</td>\n",
       "      <td>0.000000</td>\n",
       "      <td>0.000000</td>\n",
       "      <td>0.000000</td>\n",
       "      <td>0.000000</td>\n",
       "      <td>0.000000</td>\n",
       "      <td>0.000000</td>\n",
       "      <td>0.000000</td>\n",
       "      <td>0.000000</td>\n",
       "      <td>...</td>\n",
       "      <td>0.000000</td>\n",
       "      <td>0.000000</td>\n",
       "      <td>0.000000</td>\n",
       "      <td>0.000000</td>\n",
       "      <td>0.000000</td>\n",
       "      <td>0.000000</td>\n",
       "      <td>0.000000</td>\n",
       "      <td>1.000000</td>\n",
       "      <td>5.890000</td>\n",
       "      <td>2.290000e+02</td>\n",
       "    </tr>\n",
       "    <tr>\n",
       "      <th>50%</th>\n",
       "      <td>9867.000000</td>\n",
       "      <td>0.000000</td>\n",
       "      <td>0.000000</td>\n",
       "      <td>0.000000</td>\n",
       "      <td>0.000000</td>\n",
       "      <td>0.000000</td>\n",
       "      <td>0.000000</td>\n",
       "      <td>0.000000</td>\n",
       "      <td>0.000000</td>\n",
       "      <td>0.000000</td>\n",
       "      <td>...</td>\n",
       "      <td>0.000000</td>\n",
       "      <td>0.000000</td>\n",
       "      <td>0.000000</td>\n",
       "      <td>0.000000</td>\n",
       "      <td>0.000000</td>\n",
       "      <td>0.000000</td>\n",
       "      <td>0.000000</td>\n",
       "      <td>2.000000</td>\n",
       "      <td>6.570000</td>\n",
       "      <td>1.572500e+03</td>\n",
       "    </tr>\n",
       "    <tr>\n",
       "      <th>75%</th>\n",
       "      <td>23407.500000</td>\n",
       "      <td>0.000000</td>\n",
       "      <td>0.000000</td>\n",
       "      <td>0.000000</td>\n",
       "      <td>1.000000</td>\n",
       "      <td>0.000000</td>\n",
       "      <td>0.000000</td>\n",
       "      <td>0.000000</td>\n",
       "      <td>0.000000</td>\n",
       "      <td>0.000000</td>\n",
       "      <td>...</td>\n",
       "      <td>0.000000</td>\n",
       "      <td>0.000000</td>\n",
       "      <td>0.000000</td>\n",
       "      <td>0.000000</td>\n",
       "      <td>1.000000</td>\n",
       "      <td>0.000000</td>\n",
       "      <td>1.000000</td>\n",
       "      <td>12.000000</td>\n",
       "      <td>7.182500</td>\n",
       "      <td>9.766250e+03</td>\n",
       "    </tr>\n",
       "    <tr>\n",
       "      <th>max</th>\n",
       "      <td>34519.000000</td>\n",
       "      <td>1.000000</td>\n",
       "      <td>1.000000</td>\n",
       "      <td>1.000000</td>\n",
       "      <td>1.000000</td>\n",
       "      <td>1.000000</td>\n",
       "      <td>1.000000</td>\n",
       "      <td>1.000000</td>\n",
       "      <td>1.000000</td>\n",
       "      <td>1.000000</td>\n",
       "      <td>...</td>\n",
       "      <td>1.000000</td>\n",
       "      <td>1.000000</td>\n",
       "      <td>1.000000</td>\n",
       "      <td>1.000000</td>\n",
       "      <td>1.000000</td>\n",
       "      <td>1.000000</td>\n",
       "      <td>1.000000</td>\n",
       "      <td>1818.000000</td>\n",
       "      <td>10.000000</td>\n",
       "      <td>1.013917e+06</td>\n",
       "    </tr>\n",
       "  </tbody>\n",
       "</table>\n",
       "<p>8 rows × 53 columns</p>\n",
       "</div>"
      ],
      "text/plain": [
       "           anime_id        Action     Adventure          Cars        Comedy  \\\n",
       "count  11876.000000  11876.000000  11876.000000  11876.000000  11876.000000   \n",
       "mean   13470.844055      0.231391      0.193078      0.005978      0.377484   \n",
       "std    11140.893582      0.421739      0.394731      0.077092      0.484778   \n",
       "min        1.000000      0.000000      0.000000      0.000000      0.000000   \n",
       "25%     3351.500000      0.000000      0.000000      0.000000      0.000000   \n",
       "50%     9867.000000      0.000000      0.000000      0.000000      0.000000   \n",
       "75%    23407.500000      0.000000      0.000000      0.000000      1.000000   \n",
       "max    34519.000000      1.000000      1.000000      1.000000      1.000000   \n",
       "\n",
       "           Dementia        Demons         Drama         Ecchi       Fantasy  \\\n",
       "count  11876.000000  11876.000000  11876.000000  11876.000000  11876.000000   \n",
       "mean       0.020040      0.024166      0.166049      0.052796      0.186847   \n",
       "std        0.140144      0.153572      0.372140      0.223635      0.389805   \n",
       "min        0.000000      0.000000      0.000000      0.000000      0.000000   \n",
       "25%        0.000000      0.000000      0.000000      0.000000      0.000000   \n",
       "50%        0.000000      0.000000      0.000000      0.000000      0.000000   \n",
       "75%        0.000000      0.000000      0.000000      0.000000      0.000000   \n",
       "max        1.000000      1.000000      1.000000      1.000000      1.000000   \n",
       "\n",
       "           ...               Yuri    type_Movie    type_Music      type_ONA  \\\n",
       "count      ...       11876.000000  11876.000000  11876.000000  11876.000000   \n",
       "mean       ...           0.003452      0.193331      0.041007      0.051364   \n",
       "std        ...           0.058658      0.394927      0.198315      0.220749   \n",
       "min        ...           0.000000      0.000000      0.000000      0.000000   \n",
       "25%        ...           0.000000      0.000000      0.000000      0.000000   \n",
       "50%        ...           0.000000      0.000000      0.000000      0.000000   \n",
       "75%        ...           0.000000      0.000000      0.000000      0.000000   \n",
       "max        ...           1.000000      1.000000      1.000000      1.000000   \n",
       "\n",
       "           type_OVA  type_Special       type_TV      episodes        rating  \\\n",
       "count  11876.000000  11876.000000  11876.000000  11876.000000  11876.000000   \n",
       "mean       0.273409      0.140283      0.300606     12.447289      6.480333   \n",
       "std        0.445728      0.347295      0.458541     47.011062      1.021995   \n",
       "min        0.000000      0.000000      0.000000      1.000000      1.670000   \n",
       "25%        0.000000      0.000000      0.000000      1.000000      5.890000   \n",
       "50%        0.000000      0.000000      0.000000      2.000000      6.570000   \n",
       "75%        1.000000      0.000000      1.000000     12.000000      7.182500   \n",
       "max        1.000000      1.000000      1.000000   1818.000000     10.000000   \n",
       "\n",
       "            members  \n",
       "count  1.187600e+04  \n",
       "mean   1.844146e+04  \n",
       "std    5.527548e+04  \n",
       "min    1.200000e+01  \n",
       "25%    2.290000e+02  \n",
       "50%    1.572500e+03  \n",
       "75%    9.766250e+03  \n",
       "max    1.013917e+06  \n",
       "\n",
       "[8 rows x 53 columns]"
      ]
     },
     "execution_count": 9,
     "metadata": {},
     "output_type": "execute_result"
    }
   ],
   "source": [
    "anime_features.describe()"
   ]
  },
  {
   "cell_type": "markdown",
   "metadata": {},
   "source": [
    "Through a simple glance, we can see that the mean rating is 6.47, far higher than the theoretical 5. Let's look at how the rating changes with different categories."
   ]
  },
  {
   "cell_type": "code",
   "execution_count": 10,
   "metadata": {
    "collapsed": false
   },
   "outputs": [
    {
     "data": {
      "text/plain": [
       "<matplotlib.legend.Legend at 0x7f7d646e5240>"
      ]
     },
     "execution_count": 10,
     "metadata": {},
     "output_type": "execute_result"
    },
    {
     "data": {
      "image/png": "[encoded data removed]",
      "text/plain": [
       "<matplotlib.figure.Figure at 0x7f7d646e5208>"
      ]
     },
     "metadata": {},
     "output_type": "display_data"
    }
   ],
   "source": [
    "%matplotlib inline\n",
    "import matplotlib.pyplot as plt\n",
    "\n",
    "categories = ['Movie', 'Music', 'ONA', 'OVA', 'Special', 'TV']\n",
    "means = [anime_features[anime_features['type_' + category] == 1]['rating'].mean() for category in categories]\n",
    "stds = [anime_features[anime_features['type_' + category] == 1]['rating'].std() for category in categories]\n",
    "ax = None\n",
    "for category in categories:\n",
    "    ax = anime_features[anime_features['type_' + category] == 1]['rating'].plot(ax = ax,\n",
    "        kind = 'density', figsize = (10, 6), use_index = True, legend = True, xlim = (0, 10), xticks = np.arange(11))\n",
    "\n",
    "lines, labels = ax.get_legend_handles_labels()\n",
    "ax.legend(lines, ['{0} (μ={1:.2f}, σ={2:.2f})'.format(category, mean, std) for category, mean, std in zip(categories, means, stds)], loc='best') "
   ]
  },
  {
   "cell_type": "markdown",
   "metadata": {},
   "source": [
    "Surprising to me, the TV series are the highest performers (I would've guessed movies). I myself usually give a worse rating to movies that come after successful TV shows, so that might be a reason, but we can't do such a comparison with our dataset, without anime relations. The standard deviation of the movies is also a lot higher, as should be evident by the \n",
    "\n",
    "Coming back to our statistics, we see that the mean number of episodes is 12, but that is probably highly dependant on which category that anime belongs to. It can also be useful to look at the # of episodes per genre, so let's do both."
   ]
  },
  {
   "cell_type": "code",
   "execution_count": 11,
   "metadata": {
    "collapsed": false,
    "scrolled": true
   },
   "outputs": [
    {
     "name": "stdout",
     "output_type": "stream",
     "text": [
      "Categories\n",
      "Movie: mean=1.10, median=1\n",
      "Music: mean=1.13, median=1\n",
      "ONA: mean=6.86, median=2\n",
      "OVA: mean=2.42, median=2\n",
      "Special: mean=2.57, median=1\n",
      "TV: mean=35.97, median=24\n",
      "\n",
      "Genres\n",
      "Action: mean=13.25, median=3\n",
      "Adventure: mean=17.57, median=3\n",
      "Cars: mean=18.37, median=4\n",
      "Comedy: mean=17.26, median=4\n",
      "Dementia: mean=1.96, median=1\n",
      "Demons: mean=10.81, median=3\n",
      "Drama: mean=10.84, median=2\n",
      "Ecchi: mean=7.70, median=5\n",
      "Fantasy: mean=13.64, median=2\n",
      "Game: mean=22.49, median=13\n",
      "Harem: mean=9.04, median=12\n",
      "Hentai: mean=2.16, median=2\n",
      "Historical: mean=18.17, median=1\n",
      "Horror: mean=8.88, median=3\n",
      "Josei: mean=9.83, median=10\n",
      "Kids: mean=18.53, median=1\n",
      "Magic: mean=17.62, median=6\n",
      "MartialArts: mean=17.11, median=3\n",
      "Mecha: mean=14.79, median=4\n",
      "Military: mean=9.66, median=2\n",
      "Music: mean=4.22, median=1\n",
      "Mystery: mean=10.85, median=3\n",
      "Parody: mean=12.16, median=3\n",
      "Police: mean=9.55, median=1\n",
      "Psychological: mean=8.50, median=3\n",
      "Romance: mean=11.51, median=4\n",
      "Samurai: mean=10.73, median=2\n",
      "School: mean=12.65, median=7\n",
      "Sci-Fi: mean=13.53, median=3\n",
      "Seinen: mean=9.46, median=4\n",
      "Shoujo: mean=18.01, median=7\n",
      "ShoujoAi: mean=9.35, median=12\n",
      "Shounen: mean=18.05, median=3\n",
      "ShounenAi: mean=6.68, median=2\n",
      "SliceofLife: mean=18.74, median=6\n",
      "Space: mean=11.90, median=2\n",
      "Sports: mean=17.35, median=4\n",
      "SuperPower: mean=15.78, median=3\n",
      "Supernatural: mean=11.30, median=4\n",
      "Thriller: mean=10.29, median=2\n",
      "Vampire: mean=9.27, median=8\n",
      "Yaoi: mean=1.78, median=2\n",
      "Yuri: mean=3.02, median=2\n"
     ]
    }
   ],
   "source": [
    "print('Categories')\n",
    "for category in categories:\n",
    "    mean = anime_features[anime_features['type_' + category] == 1]['episodes'].mean()\n",
    "    median = anime_features[anime_features['type_' + category] == 1]['episodes'].median()\n",
    "    print('{0}: mean={1:.2f}, median={2:.0f}'.format(category, mean, median))\n",
    "print('\\nGenres')\n",
    "for genre in genres.columns:\n",
    "    mean = anime_features[anime_features[genre] == 1]['episodes'].mean()\n",
    "    median = anime_features[anime_features[genre] == 1]['episodes'].median()\n",
    "    print('{0}: mean={1:.2f}, median={2:.0f}'.format(genre, mean, median))"
   ]
  },
  {
   "cell_type": "markdown",
   "metadata": {},
   "source": [
    "The categories are pretty much as expected, though I'm not sure about how there is more than 1 episode per movie. The genres are more spread-out, but it is obvious that the defining factor in the number of episodes is the combination of both. Doing that analysis would spread some genres too thin, so for now I am avoiding it.\n",
    "\n",
    "Instead, I want to take a look at how the number of episodes are spread. Generally speaking, there are multiple ways an anime can be distributed:\n",
    "* Seasonal TV, where an anime may have 12-13 episodes per season (per cour, as it is called), for however long it rungs (generally 1 or 2)\n",
    "* Long running TV, where the anime does not really end until the source material ends or it is no longer profitable (think 300+ episodes)\n",
    "* Hard copy disks (OVAs), where its usually 2-3 or 5-6 episodes per anime.\n",
    "* One-offs, with 1 episode per anime.\n",
    "\n",
    "Keeping these in mind, I wanted to look at the probability density of the episode counts."
   ]
  },
  {
   "cell_type": "code",
   "execution_count": 12,
   "metadata": {
    "collapsed": false
   },
   "outputs": [
    {
     "data": {
      "text/plain": [
       "<matplotlib.axes._subplots.AxesSubplot at 0x7f7d64641160>"
      ]
     },
     "execution_count": 12,
     "metadata": {},
     "output_type": "execute_result"
    },
    {
     "data": {
      "image/png": "[encoded data removed]",
      "text/plain": [
       "<matplotlib.figure.Figure at 0x7f7d649d0ba8>"
      ]
     },
     "metadata": {},
     "output_type": "display_data"
    }
   ],
   "source": [
    "anime_features['episodes'].plot(kind = 'density', xlim = (0, 200))"
   ]
  },
  {
   "cell_type": "markdown",
   "metadata": {},
   "source": [
    "This figure shows clearly that the probability peaks at around 1, then decreases logarithmically until the 30s, where it increases to an unexpected bump at around 50, before falling again. The 50 episode mark probably has to do with year-long (4-cour) anime. This does not, however, show the different nuances between close number of episodes, and for that, we need to plot a histogram."
   ]
  },
  {
   "cell_type": "code",
   "execution_count": 13,
   "metadata": {
    "collapsed": false
   },
   "outputs": [
    {
     "data": {
      "text/plain": [
       "<matplotlib.axes._subplots.AxesSubplot at 0x7f7d54c6a9e8>"
      ]
     },
     "execution_count": 13,
     "metadata": {},
     "output_type": "execute_result"
    },
    {
     "data": {
      "image/png": "[encoded data removed]",
      "text/plain": [
       "<matplotlib.figure.Figure at 0x7f7d64811cc0>"
      ]
     },
     "metadata": {},
     "output_type": "display_data"
    }
   ],
   "source": [
    "anime_features['episodes'].plot(\n",
    "    kind = 'hist', xlim = (0, 200), bins = 800, logy = True, xticks = np.arange(0, 2000, 5), figsize = (14, 5))"
   ]
  },
  {
   "cell_type": "markdown",
   "metadata": {},
   "source": [
    "Here, we can clearly see the peaks around 11-13 episodes and 24-26 episodes, marking the 1-cour and 2-cour anime. A similar but smaller peak is around 36-38 episode mark, and the last high peak is the 52 episode mark. Note that this is a logarithmic plot, made so that we can clearly see the peaks, but the actual difference between the peaks and its surroundings are much higher (erase the `logy = True` argument from the above line to see the original).\n",
    "\n",
    "Given this information, I wanted to try clustering these anime by their episode counts, to see if I can find some cluster centers that fit it. I used K-Means to cluster the episode counts, and re-ran it 10 times to make sure my results were not affected by bad initialization (which K-Means is prone to)."
   ]
  },
  {
   "cell_type": "code",
   "execution_count": 14,
   "metadata": {
    "collapsed": false
   },
   "outputs": [
    {
     "name": "stdout",
     "output_type": "stream",
     "text": [
      "               Centers                              Counts\n",
      "   1.7  153.6   51.1   17.2  879.0      8076   137   899  2752    12\n",
      "   3.4  939.5  172.0   25.7   54.3      9675    11   107  1323   760\n",
      "   3.7  434.8   50.5   25.6  122.0      9675    30   790  1218   163\n",
      "   3.5  115.9   51.2   24.8  514.2      9675   179   783  1218    21\n",
      "   5.3 1546.0  153.8   53.1  374.8     10764     8   113   968    23\n",
      "   3.5   48.8  144.9   54.8   25.2      9675   501   169   350  1181\n",
      "  17.1   48.9   51.0    1.8  120.2      2741   354   509  8076   196\n",
      " 264.9    1.6   52.1   25.7   12.0        68  7905   915  1151  1837\n",
      "  55.8    1.6   26.5  194.3   12.0       763  7905  1260   107  1841\n",
      "   5.2    1.2   45.4   98.7   26.0      2504  7192   787   244  1149\n"
     ]
    }
   ],
   "source": [
    "from sklearn.cluster import MiniBatchKMeans\n",
    "\n",
    "n_trials = 10\n",
    "n_clusters = 5\n",
    "print(' '*n_clusters*3 + 'Centers' + ' '*5 + ' '*n_clusters*5 + 'Counts')\n",
    "for i in range(n_trials):\n",
    "    kmeans = MiniBatchKMeans(n_clusters = n_clusters).fit(anime_features['episodes'].values.reshape(-1, 1))\n",
    "    cstr = ['{0:>6.1f}'.format(c[0]) for c in kmeans.cluster_centers_]\n",
    "    nstr = ['{0:5}'.format(n) for n in np.bincount(kmeans.labels_)]\n",
    "    print(' '.join(cstr) + '     ' + ' '.join(nstr))"
   ]
  },
  {
   "cell_type": "markdown",
   "metadata": {},
   "source": [
    "It is evident that one of the cluster centers tend to 1, as many clusters do contain a value near 1-2, with a high number of anime fitting into that cluster. There also are cluster centers in the 10s and 20s with sizeable chunks of anime, though it seems that some of the anime belonging to those groups get swallowed up by other cluster centers higher up. The effect of the 52 episode peak is also visible, as there are usually centers right around it. And speaking of higher ups, there obviously is a cluster center that represents a large region of episodes, representing the long-running shows.\n",
    "\n",
    "Having done that, we can look to see if we have biases/correlations in the dataset with respect to different features. It is not the same as looking at the correlations of each feature to the rating, but we can do a very simple linear regression on this dataset and look at the different coefficients it gives for different features to get a crude idea."
   ]
  },
  {
   "cell_type": "code",
   "execution_count": 15,
   "metadata": {
    "collapsed": true
   },
   "outputs": [],
   "source": [
    "from sklearn.linear_model import LinearRegression"
   ]
  },
  {
   "cell_type": "code",
   "execution_count": 16,
   "metadata": {
    "collapsed": false,
    "scrolled": true
   },
   "outputs": [
    {
     "data": {
      "text/plain": [
       "0.38376392665721948"
      ]
     },
     "execution_count": 16,
     "metadata": {},
     "output_type": "execute_result"
    }
   ],
   "source": [
    "lr = LinearRegression()\n",
    "\n",
    "lr.fit(anime_features.drop('rating', axis = 1), anime_features['rating']).score(anime_features.drop('rating', axis = 1), anime_features['rating'])"
   ]
  },
  {
   "cell_type": "markdown",
   "metadata": {},
   "source": [
    "A lowly .38 for our $R^2$ value, but the coefficients will still give us some insight."
   ]
  },
  {
   "cell_type": "code",
   "execution_count": 17,
   "metadata": {
    "collapsed": false,
    "scrolled": true
   },
   "outputs": [
    {
     "name": "stdout",
     "output_type": "stream",
     "text": [
      "anime_id -1.20407335408e-05\n",
      "Action 0.0791117352757\n",
      "Adventure 0.105010277192\n",
      "Cars -0.00760683275125\n",
      "Comedy 0.111169881228\n",
      "Dementia -0.926525177252\n",
      "Demons -0.0554576091279\n",
      "Drama 0.373457132837\n",
      "Ecchi -0.122737881837\n",
      "Fantasy 0.184946507526\n",
      "Game 0.129961125107\n",
      "Harem 0.0568622489149\n",
      "Hentai 0.0619556475062\n",
      "Historical 0.244094280211\n",
      "Horror -0.220051468187\n",
      "Josei 0.561181572763\n",
      "Kids -0.101882887188\n",
      "Magic 0.081064877769\n",
      "MartialArts 0.0376868836973\n",
      "Mecha -0.0209531727031\n",
      "Military 0.306483568357\n",
      "Music 0.121302438299\n",
      "Mystery 0.382383591278\n",
      "Parody 0.105348623333\n",
      "Police 0.358273640285\n",
      "Psychological 0.170196762235\n",
      "Romance 0.106455201034\n",
      "Samurai 0.0834452220595\n",
      "School 0.269172816014\n",
      "Sci-Fi 0.0826381559624\n",
      "Seinen 0.280546746467\n",
      "Shoujo 0.198926701821\n",
      "ShoujoAi 0.15416395099\n",
      "Shounen 0.363823487864\n",
      "ShounenAi 0.207650853626\n",
      "SliceofLife 0.222225163853\n",
      "Space 0.054916701777\n",
      "Sports 0.209158110312\n",
      "SuperPower 0.0831981959986\n",
      "Supernatural 0.189810533347\n",
      "Thriller 0.165900629811\n",
      "Vampire -0.0358883523718\n",
      "Yaoi -0.113067330976\n",
      "Yuri -0.151913573505\n",
      "type_Movie 0.0815414085807\n",
      "type_Music -0.324816612543\n",
      "type_ONA -0.397920906686\n",
      "type_OVA 0.11146731129\n",
      "type_Special 0.243490351855\n",
      "type_TV 0.286238447504\n",
      "episodes 0.00038504343642\n",
      "members 4.58134539968e-06\n"
     ]
    }
   ],
   "source": [
    "for name, coef in zip(anime_features.drop('rating', axis = 1).columns, lr.coef_):\n",
    "    print(name, coef)"
   ]
  },
  {
   "cell_type": "markdown",
   "metadata": {},
   "source": [
    "These results suggest that there is little correlation between the # of episodes and the # of members to the ratings, though there are some genres which have a significant impact on the outcome (ex: josei & dementia). I suspect these have more to do with the low # of anime of those genres. Let's find out, using the [Pearson Correlation](https://en.wikipedia.org/wiki/Pearson_correlation_coefficient) between the two variables. Note that we are looking at the absolute values of the coefficients, because we are concerned about how big the effect of any given genre is to the overall rating."
   ]
  },
  {
   "cell_type": "code",
   "execution_count": 18,
   "metadata": {
    "collapsed": false
   },
   "outputs": [
    {
     "data": {
      "text/html": [
       "<div>\n",
       "<style>\n",
       "    .dataframe thead tr:only-child th {\n",
       "        text-align: right;\n",
       "    }\n",
       "\n",
       "    .dataframe thead th {\n",
       "        text-align: left;\n",
       "    }\n",
       "\n",
       "    .dataframe tbody tr th {\n",
       "        vertical-align: top;\n",
       "    }\n",
       "</style>\n",
       "<table border=\"1\" class=\"dataframe\">\n",
       "  <thead>\n",
       "    <tr style=\"text-align: right;\">\n",
       "      <th></th>\n",
       "      <th>anime_id</th>\n",
       "      <th>Action</th>\n",
       "      <th>Adventure</th>\n",
       "      <th>Cars</th>\n",
       "      <th>Comedy</th>\n",
       "      <th>Dementia</th>\n",
       "      <th>Demons</th>\n",
       "      <th>Drama</th>\n",
       "      <th>Ecchi</th>\n",
       "      <th>Fantasy</th>\n",
       "      <th>...</th>\n",
       "      <th>Yaoi</th>\n",
       "      <th>Yuri</th>\n",
       "      <th>type_Movie</th>\n",
       "      <th>type_Music</th>\n",
       "      <th>type_ONA</th>\n",
       "      <th>type_OVA</th>\n",
       "      <th>type_Special</th>\n",
       "      <th>type_TV</th>\n",
       "      <th>episodes</th>\n",
       "      <th>members</th>\n",
       "    </tr>\n",
       "  </thead>\n",
       "  <tbody>\n",
       "    <tr>\n",
       "      <th>0</th>\n",
       "      <td>-0.000012</td>\n",
       "      <td>0.079112</td>\n",
       "      <td>0.10501</td>\n",
       "      <td>-0.007607</td>\n",
       "      <td>0.11117</td>\n",
       "      <td>-0.926525</td>\n",
       "      <td>-0.055458</td>\n",
       "      <td>0.373457</td>\n",
       "      <td>-0.122738</td>\n",
       "      <td>0.184947</td>\n",
       "      <td>...</td>\n",
       "      <td>-0.113067</td>\n",
       "      <td>-0.151914</td>\n",
       "      <td>0.081541</td>\n",
       "      <td>-0.324817</td>\n",
       "      <td>-0.397921</td>\n",
       "      <td>0.111467</td>\n",
       "      <td>0.24349</td>\n",
       "      <td>0.286238</td>\n",
       "      <td>0.000385</td>\n",
       "      <td>0.000005</td>\n",
       "    </tr>\n",
       "  </tbody>\n",
       "</table>\n",
       "<p>1 rows × 52 columns</p>\n",
       "</div>"
      ],
      "text/plain": [
       "   anime_id    Action  Adventure      Cars   Comedy  Dementia    Demons  \\\n",
       "0 -0.000012  0.079112    0.10501 -0.007607  0.11117 -0.926525 -0.055458   \n",
       "\n",
       "      Drama     Ecchi   Fantasy    ...         Yaoi      Yuri  type_Movie  \\\n",
       "0  0.373457 -0.122738  0.184947    ...    -0.113067 -0.151914    0.081541   \n",
       "\n",
       "   type_Music  type_ONA  type_OVA  type_Special   type_TV  episodes   members  \n",
       "0   -0.324817 -0.397921  0.111467       0.24349  0.286238  0.000385  0.000005  \n",
       "\n",
       "[1 rows x 52 columns]"
      ]
     },
     "execution_count": 18,
     "metadata": {},
     "output_type": "execute_result"
    }
   ],
   "source": [
    "from scipy.stats import pearsonr\n",
    "\n",
    "coefs = pd.DataFrame(\n",
    "    lr.coef_.reshape(1, lr.coef_.shape[0]),\n",
    "    columns = anime_features.drop('rating', axis = 1).columns\n",
    ")\n",
    "coefs"
   ]
  },
  {
   "cell_type": "code",
   "execution_count": 19,
   "metadata": {
    "collapsed": false,
    "scrolled": true
   },
   "outputs": [
    {
     "data": {
      "text/plain": [
       "-0.10254324869761733"
      ]
     },
     "execution_count": 19,
     "metadata": {},
     "output_type": "execute_result"
    }
   ],
   "source": [
    "pearsonr(\n",
    "    anime_features[genres.columns].sum(axis = 0).values,\n",
    "    np.abs(coefs[genres.columns].values).reshape(genres.columns.size)\n",
    ")[0]"
   ]
  },
  {
   "cell_type": "markdown",
   "metadata": {},
   "source": [
    "As expected, there is a (small) negative correlation between the effect of genres and the # of anime in those genres: as the audience gets bigger, and the viewers get more diverse, the average ratings decrease.\n",
    "\n",
    "Now, let's look at the ratings."
   ]
  },
  {
   "cell_type": "code",
   "execution_count": 20,
   "metadata": {
    "collapsed": false
   },
   "outputs": [
    {
     "data": {
      "text/html": [
       "<div>\n",
       "<style>\n",
       "    .dataframe thead tr:only-child th {\n",
       "        text-align: right;\n",
       "    }\n",
       "\n",
       "    .dataframe thead th {\n",
       "        text-align: left;\n",
       "    }\n",
       "\n",
       "    .dataframe tbody tr th {\n",
       "        vertical-align: top;\n",
       "    }\n",
       "</style>\n",
       "<table border=\"1\" class=\"dataframe\">\n",
       "  <thead>\n",
       "    <tr style=\"text-align: right;\">\n",
       "      <th></th>\n",
       "      <th>user_id</th>\n",
       "      <th>anime_id</th>\n",
       "      <th>rating</th>\n",
       "    </tr>\n",
       "  </thead>\n",
       "  <tbody>\n",
       "    <tr>\n",
       "      <th>0</th>\n",
       "      <td>1</td>\n",
       "      <td>20</td>\n",
       "      <td>-1</td>\n",
       "    </tr>\n",
       "    <tr>\n",
       "      <th>1</th>\n",
       "      <td>1</td>\n",
       "      <td>24</td>\n",
       "      <td>-1</td>\n",
       "    </tr>\n",
       "    <tr>\n",
       "      <th>2</th>\n",
       "      <td>1</td>\n",
       "      <td>79</td>\n",
       "      <td>-1</td>\n",
       "    </tr>\n",
       "    <tr>\n",
       "      <th>3</th>\n",
       "      <td>1</td>\n",
       "      <td>226</td>\n",
       "      <td>-1</td>\n",
       "    </tr>\n",
       "    <tr>\n",
       "      <th>4</th>\n",
       "      <td>1</td>\n",
       "      <td>241</td>\n",
       "      <td>-1</td>\n",
       "    </tr>\n",
       "    <tr>\n",
       "      <th>5</th>\n",
       "      <td>1</td>\n",
       "      <td>355</td>\n",
       "      <td>-1</td>\n",
       "    </tr>\n",
       "    <tr>\n",
       "      <th>6</th>\n",
       "      <td>1</td>\n",
       "      <td>356</td>\n",
       "      <td>-1</td>\n",
       "    </tr>\n",
       "    <tr>\n",
       "      <th>7</th>\n",
       "      <td>1</td>\n",
       "      <td>442</td>\n",
       "      <td>-1</td>\n",
       "    </tr>\n",
       "    <tr>\n",
       "      <th>8</th>\n",
       "      <td>1</td>\n",
       "      <td>487</td>\n",
       "      <td>-1</td>\n",
       "    </tr>\n",
       "    <tr>\n",
       "      <th>9</th>\n",
       "      <td>1</td>\n",
       "      <td>846</td>\n",
       "      <td>-1</td>\n",
       "    </tr>\n",
       "  </tbody>\n",
       "</table>\n",
       "</div>"
      ],
      "text/plain": [
       "   user_id  anime_id  rating\n",
       "0        1        20      -1\n",
       "1        1        24      -1\n",
       "2        1        79      -1\n",
       "3        1       226      -1\n",
       "4        1       241      -1\n",
       "5        1       355      -1\n",
       "6        1       356      -1\n",
       "7        1       442      -1\n",
       "8        1       487      -1\n",
       "9        1       846      -1"
      ]
     },
     "execution_count": 20,
     "metadata": {},
     "output_type": "execute_result"
    }
   ],
   "source": [
    "user_data = d.load_dataframe('rating.csv')\n",
    "user_data.head(10)"
   ]
  },
  {
   "cell_type": "markdown",
   "metadata": {},
   "source": [
    "These -1 ratings show that the user has added an anime to their list but has not (yet) rated it. Again, we can look at the how much of the ratings is missing."
   ]
  },
  {
   "cell_type": "code",
   "execution_count": 21,
   "metadata": {
    "collapsed": false
   },
   "outputs": [
    {
     "data": {
      "text/plain": [
       "0.030755315731718854"
      ]
     },
     "execution_count": 21,
     "metadata": {},
     "output_type": "execute_result"
    }
   ],
   "source": [
    "(user_data['rating'] == -1).astype('int').sum() / user_data['rating'].astype('int').sum()"
   ]
  },
  {
   "cell_type": "markdown",
   "metadata": {},
   "source": [
    "Again, around 3%, which is an acceptable loss for us."
   ]
  },
  {
   "cell_type": "code",
   "execution_count": 22,
   "metadata": {
    "collapsed": false
   },
   "outputs": [
    {
     "data": {
      "text/plain": [
       "19011723"
      ]
     },
     "execution_count": 22,
     "metadata": {},
     "output_type": "execute_result"
    }
   ],
   "source": [
    "user_features = user_data[user_data['rating'] != -1]\n",
    "user_features.size"
   ]
  },
  {
   "cell_type": "markdown",
   "metadata": {},
   "source": [
    "We first look at the distribution of average ratings across all users, to get a grasp of how diverse the voter population is."
   ]
  },
  {
   "cell_type": "code",
   "execution_count": 23,
   "metadata": {
    "collapsed": true
   },
   "outputs": [],
   "source": [
    "user_means = user_features.groupby('user_id')['rating'].mean()"
   ]
  },
  {
   "cell_type": "code",
   "execution_count": 24,
   "metadata": {
    "collapsed": false,
    "scrolled": true
   },
   "outputs": [
    {
     "data": {
      "text/plain": [
       "count    69600.000000\n",
       "mean         8.227761\n",
       "std          0.902856\n",
       "min          1.000000\n",
       "25%          7.666667\n",
       "50%          8.193548\n",
       "75%          8.815789\n",
       "max         10.000000\n",
       "Name: rating, dtype: float64"
      ]
     },
     "execution_count": 24,
     "metadata": {},
     "output_type": "execute_result"
    }
   ],
   "source": [
    "user_means.describe()"
   ]
  },
  {
   "cell_type": "markdown",
   "metadata": {},
   "source": [
    "The mean of the average ratings per user is very high, and the standard deviation is actually less than what I've imagined. 50% of the people lie within the 7.6 to 8.8 range, which makes me expect that predicting the ratings for that group of people will be much easier."
   ]
  },
  {
   "cell_type": "code",
   "execution_count": 25,
   "metadata": {
    "collapsed": false
   },
   "outputs": [
    {
     "data": {
      "text/plain": [
       "<matplotlib.axes._subplots.AxesSubplot at 0x7f7d54ce85c0>"
      ]
     },
     "execution_count": 25,
     "metadata": {},
     "output_type": "execute_result"
    },
    {
     "data": {
      "image/png": "[encoded data removed]",
      "text/plain": [
       "<matplotlib.figure.Figure at 0x7f7d542bddd8>"
      ]
     },
     "metadata": {},
     "output_type": "display_data"
    }
   ],
   "source": [
    "user_means.plot(kind = 'density', xlim = (0, 10), xticks = np.arange(11))"
   ]
  },
  {
   "cell_type": "markdown",
   "metadata": {},
   "source": [
    "Perhaps unsurprisingly, the peak is not around the theoretical 5 value, but rather, around high 7s. I myself attribute this to users not even bothering to watch (and similarly, rate) shows that do not interest them. After all, why would you willingly expose yourself to a show you would not like? This is a common trend in recommender systems, except for those you cannot choose what you are exposed to.\n",
    "\n",
    "One thing surprising for me is the high probability of raters rating only 10s. It is possible that some of these are bots, though I refrain any judgement before seeing the histogram."
   ]
  },
  {
   "cell_type": "code",
   "execution_count": 26,
   "metadata": {
    "collapsed": false
   },
   "outputs": [
    {
     "data": {
      "text/plain": [
       "<matplotlib.axes._subplots.AxesSubplot at 0x7f7d3fcda3c8>"
      ]
     },
     "execution_count": 26,
     "metadata": {},
     "output_type": "execute_result"
    },
    {
     "data": {
      "image/png": "[encoded data removed]",
      "text/plain": [
       "<matplotlib.figure.Figure at 0x7f7d3fd2a9b0>"
      ]
     },
     "metadata": {},
     "output_type": "display_data"
    }
   ],
   "source": [
    "user_means.plot(\n",
    "    kind = 'hist', xlim = (0, 10), bins = 80, logy = True, xticks = np.arange(11), figsize = (14, 5))"
   ]
  },
  {
   "cell_type": "markdown",
   "metadata": {},
   "source": [
    "This histogram shows that there is a sizeable portion of raters that are only giving 10s, and that their effect is enough to bring the number of voters in the 9.125 to 10 rating interval, which would have been around mid 100s following the declining trend, to an order of magnitude higher.\n",
    "\n",
    "We can also look at the distribution of the standard deviations of users, to see how diverse a range they rate in."
   ]
  },
  {
   "cell_type": "code",
   "execution_count": 27,
   "metadata": {
    "collapsed": false
   },
   "outputs": [
    {
     "data": {
      "text/plain": [
       "count    69600.000000\n",
       "mean         1.173732\n",
       "std          0.537164\n",
       "min          0.000000\n",
       "25%          0.935257\n",
       "50%          1.195315\n",
       "75%          1.467501\n",
       "max          6.363961\n",
       "Name: rating, dtype: float64"
      ]
     },
     "execution_count": 27,
     "metadata": {},
     "output_type": "execute_result"
    }
   ],
   "source": [
    "user_stds = user_features.groupby('user_id')['rating'].std().fillna(0)\n",
    "user_stds.describe()"
   ]
  },
  {
   "cell_type": "markdown",
   "metadata": {},
   "source": [
    "The `fillna(0)` part is necessary since pandas returns NaN for the std deviation of groups with only a single element (in our case, users with a single rating). The mean standard deviation is 1.17, which suggests that users usually vote 1 to 2 points around their mean. Again, this brings me back to my previous assessment that people don't usually bother watching content they would not presumably like. The minimum is 0, which is expected given the amount of people who rate all 10s and all 1s (see above graph). But how much does is skew the standard deviation distribution?"
   ]
  },
  {
   "cell_type": "code",
   "execution_count": 28,
   "metadata": {
    "collapsed": false
   },
   "outputs": [
    {
     "data": {
      "text/plain": [
       "<matplotlib.axes._subplots.AxesSubplot at 0x7f7d3fea1240>"
      ]
     },
     "execution_count": 28,
     "metadata": {},
     "output_type": "execute_result"
    },
    {
     "data": {
      "image/png": "[encoded data removed]",
      "text/plain": [
       "<matplotlib.figure.Figure at 0x7f7d3fecaba8>"
      ]
     },
     "metadata": {},
     "output_type": "display_data"
    }
   ],
   "source": [
    "user_stds.plot(kind = 'density', xlim = (-1, 4), xticks = np.arange(-1, 4, .5))"
   ]
  },
  {
   "cell_type": "markdown",
   "metadata": {},
   "source": [
    "This figure appears to be, apart from the small hiccup at 0.5, a near-perfect combination of two separate distributions; one centered around 1.1, other around 0, though it is likely that the second distribution is just an infinite vertical line at x = 0. What I'm interested in is how the rest of the standard deviations fare after removing the 0s. Though there probably are legit users with zero standard deviation, canif our aim was to predict ratings for a given user, I think we could make a special case for them and simply use their one and only ratings for the estimated rating for any anime they rate. This seems very reasonable, but in actuality, should not be the way to go for recommender systems.\n",
    "\n",
    "Take, for example, an extremely cold-start user with 1 or 2 ratings, which are all the same. If we make all items equally likely to be recommended (because they would have the same rating due to our special case), we end up discarding valuable information about which genre of anime the user has watched first, and how much they've liked it. On the other hand, the anime a user first watches might not at all be indicative of their tastes, and the user might not realize this until after watching dozens of anime.\n",
    "\n",
    "This will not be a problem for most of our users, however, so we might want to focus on them instead. Let's see how many users actually fall into this category, and how much of the ratings they constitute to."
   ]
  },
  {
   "cell_type": "code",
   "execution_count": 29,
   "metadata": {
    "collapsed": false
   },
   "outputs": [
    {
     "name": "stdout",
     "output_type": "stream",
     "text": [
      "Percentage users: 0.07867816091954023\n",
      "Percentage ratings: 0.00512383859159\n"
     ]
    }
   ],
   "source": [
    "print('Percentage users:', user_stds[user_stds == 0].shape[0] / user_stds.shape[0])\n",
    "print('Percentage ratings:', user_features.groupby('user_id')['rating'].count()[user_stds == 0].sum() / user_features.shape[0])"
   ]
  },
  {
   "cell_type": "markdown",
   "metadata": {},
   "source": [
    "We can see that although the 0-deviation users are about 7.9% of our users, the amount of total ratings they have is .5%. "
   ]
  },
  {
   "cell_type": "code",
   "execution_count": 30,
   "metadata": {
    "collapsed": false
   },
   "outputs": [
    {
     "data": {
      "text/plain": [
       "<matplotlib.axes._subplots.AxesSubplot at 0x7f7d3a112908>"
      ]
     },
     "execution_count": 30,
     "metadata": {},
     "output_type": "execute_result"
    },
    {
     "data": {
      "image/png": "[encoded data removed]",
      "text/plain": [
       "<matplotlib.figure.Figure at 0x7f7d3ff256d8>"
      ]
     },
     "metadata": {},
     "output_type": "display_data"
    }
   ],
   "source": [
    "user_features.groupby('user_id')['rating'].std().where(lambda x: x != 0).plot(kind = 'density', xlim = (-1, 4), xticks = np.arange(-1, 4, .5))"
   ]
  },
  {
   "cell_type": "code",
   "execution_count": 31,
   "metadata": {
    "collapsed": false
   },
   "outputs": [
    {
     "data": {
      "text/plain": [
       "<matplotlib.axes._subplots.AxesSubplot at 0x7f7d38ac74e0>"
      ]
     },
     "execution_count": 31,
     "metadata": {},
     "output_type": "execute_result"
    },
    {
     "data": {
      "image/png": "[encoded data removed]",
      "text/plain": [
       "<matplotlib.figure.Figure at 0x7f7d54030898>"
      ]
     },
     "metadata": {},
     "output_type": "display_data"
    }
   ],
   "source": [
    "user_features.groupby('user_id')['rating'].std().plot(\n",
    "    kind = 'hist', xlim = (0, 5), bins = 80, logy = True, xticks = np.arange(6), figsize = (14, 5))"
   ]
  },
  {
   "cell_type": "markdown",
   "metadata": {},
   "source": [
    "Last but not least, I want to look at the distribution of the number of ratings each user has. Specifically, I am interested in the extreme cold-start users (with 3 or less ratings) and cold-start users (with 4 to 9 ratings). I will first draw the histogram to check for irregularities, but I don't expect there to be much of it."
   ]
  },
  {
   "cell_type": "code",
   "execution_count": 33,
   "metadata": {
    "collapsed": false
   },
   "outputs": [
    {
     "data": {
      "text/plain": [
       "count    69600.000000\n",
       "mean        91.052313\n",
       "std        135.764253\n",
       "min          1.000000\n",
       "25%         13.000000\n",
       "50%         45.000000\n",
       "75%        114.000000\n",
       "max       3747.000000\n",
       "Name: rating, dtype: float64"
      ]
     },
     "execution_count": 33,
     "metadata": {},
     "output_type": "execute_result"
    }
   ],
   "source": [
    "rating_counts = user_features.groupby('user_id')['rating'].count()\n",
    "rating_counts.describe()"
   ]
  },
  {
   "cell_type": "code",
   "execution_count": 49,
   "metadata": {
    "collapsed": false
   },
   "outputs": [
    {
     "data": {
      "text/plain": [
       "<matplotlib.axes._subplots.AxesSubplot at 0x7f7d37f1a160>"
      ]
     },
     "execution_count": 49,
     "metadata": {},
     "output_type": "execute_result"
    },
    {
     "data": {
      "image/png": "[encoded data removed]",
      "text/plain": [
       "<matplotlib.figure.Figure at 0x7f7d3a618240>"
      ]
     },
     "metadata": {},
     "output_type": "display_data"
    }
   ],
   "source": [
    "rating_counts.plot(\n",
    "    kind = 'hist', bins = 120, logy = True, figsize = (14, 5))"
   ]
  },
  {
   "cell_type": "markdown",
   "metadata": {},
   "source": [
    "As expected, there is an exponential (as a matter of fact, a double exponential, as it is still visible after the log operation on y axis), decrease in the number of ratings, so the results are as expected."
   ]
  },
  {
   "cell_type": "code",
   "execution_count": 52,
   "metadata": {
    "collapsed": false
   },
   "outputs": [
    {
     "name": "stdout",
     "output_type": "stream",
     "text": [
      "Extreme cold start:  0.102255747126\n",
      "Cold start:  0.0507471264368\n"
     ]
    }
   ],
   "source": [
    "print('Extreme cold start: ', rating_counts[rating_counts < 4].count() / rating_counts.count())\n",
    "print('Cold start: ', rating_counts.loc[(rating_counts[rating_counts < 10] &  rating_counts[rating_counts > 3])].count() / rating_counts.count())"
   ]
  },
  {
   "cell_type": "markdown",
   "metadata": {},
   "source": [
    "These results are, also expected. 10% of our population is extreme cold start users, and many of those are probably people who came and realized that they had no need for this site. Some of them will be the actual users we are targeting. For this reason, it would actually be beneficial to have the timestamp of when an item was rated, or even, the last time a user was online. These information would allow us to weed out such inactive persons (who are not the actual audience for this site anyway) fairly easily. Instead, we can look at the ratio of the ratings done by these users and how much information would we lose by not using those users for training."
   ]
  },
  {
   "cell_type": "code",
   "execution_count": 54,
   "metadata": {
    "collapsed": false
   },
   "outputs": [
    {
     "data": {
      "text/plain": [
       "0.0020131789212371755"
      ]
     },
     "execution_count": 54,
     "metadata": {},
     "output_type": "execute_result"
    }
   ],
   "source": [
    "rating_counts[rating_counts < 4].sum() / rating_counts.sum()"
   ]
  },
  {
   "cell_type": "markdown",
   "metadata": {},
   "source": [
    "Only .2 percent of the ratings will be lost. I expect that the pros will outweight the cons of removing those users, and in the future, I will try my methods while both removing and keeping those to test this hypothesis. This concludes my preliminary analysis, and you can go on to the next notebook :)"
   ]
  }
 ],
 "metadata": {
  "anaconda-cloud": {},
  "kernelspec": {
   "display_name": "Python [default]",
   "language": "python",
   "name": "python3"
  },
  "language_info": {
   "codemirror_mode": {
    "name": "ipython",
    "version": 3
   },
   "file_extension": ".py",
   "mimetype": "text/x-python",
   "name": "python",
   "nbconvert_exporter": "python",
   "pygments_lexer": "ipython3",
   "version": "3.5.2"
  }
 },
 "nbformat": 4,
 "nbformat_minor": 2
}
